{
 "cells": [
  {
   "cell_type": "code",
   "execution_count": 1,
   "metadata": {},
   "outputs": [],
   "source": [
    "import pandas as pd\n",
    "import matplotlib.pyplot as plt\n",
    "import seaborn as sns\n",
    "import numpy as np"
   ]
  },
  {
   "cell_type": "code",
   "execution_count": 59,
   "metadata": {},
   "outputs": [],
   "source": [
    "alunos_url16 = 'https://goo.gl/g1sZVa'\n",
    "alunos16 = pd.read_csv(alunos_url16, sep = ';')\n",
    "\n",
    "alunos_url15 = 'https://goo.gl/qM1kWH'\n",
    "alunos15 = pd.read_csv(alunos_url15, sep = ';')\n",
    "\n",
    "alunos_url14 = 'https://goo.gl/ymRDkb'\n",
    "alunos14 = pd.read_csv(alunos_url14, sep = ';')"
   ]
  },
  {
   "cell_type": "code",
   "execution_count": 63,
   "metadata": {},
   "outputs": [
    {
     "name": "stdout",
     "output_type": "stream",
     "text": [
      "<class 'pandas.core.frame.DataFrame'>\n",
      "Int64Index: 53471 entries, 0 to 20602\n",
      "Data columns (total 16 columns):\n",
      "matricula               53471 non-null int64\n",
      "nome_discente           53471 non-null object\n",
      "ano_ingresso            53471 non-null int64\n",
      "periodo_ingresso        53471 non-null float64\n",
      "forma_ingresso          53471 non-null object\n",
      "tipo_discente           53471 non-null object\n",
      "status                  53471 non-null object\n",
      "sigla_nivel_ensino      53471 non-null object\n",
      "nivel_ensino            53471 non-null object\n",
      "id_curso                53471 non-null float64\n",
      "nome_curso              53471 non-null object\n",
      "modalidade_educacao     53471 non-null object\n",
      "id_unidade              53471 non-null float64\n",
      "nome_unidade            53471 non-null object\n",
      "id_unidade_gestora      53471 non-null float64\n",
      "nome_unidade_gestora    53471 non-null object\n",
      "dtypes: float64(4), int64(2), object(10)\n",
      "memory usage: 6.9+ MB\n"
     ]
    }
   ],
   "source": [
    "alunos_concat = pd.concat([alunos16, alunos15, alunos14])\n",
    "alunos_concat.dropna(inplace = True)\n",
    "alunos_concat.info()"
   ]
  },
  {
   "cell_type": "code",
   "execution_count": 72,
   "metadata": {},
   "outputs": [],
   "source": [
    "alunosBTI = alunos_concat[alunos_concat.nome_curso == \"TECNOLOGIA DA INFORMAÇÃO\"]\n",
    "alunosCET = alunos_concat[alunos_concat.nome_curso == \"CIÊNCIAS E TECNOLOGIA\"]\n",
    "\n",
    "alunosBTI = alunosBTI[~alunosBTI.nome_discente.duplicated()]\n",
    "alunosCET = alunosCET[~alunosCET.nome_discente.duplicated()]"
   ]
  },
  {
   "cell_type": "code",
   "execution_count": null,
   "metadata": {},
   "outputs": [],
   "source": []
  }
 ],
 "metadata": {
  "kernelspec": {
   "display_name": "Python 3",
   "language": "python",
   "name": "python3"
  },
  "language_info": {
   "codemirror_mode": {
    "name": "ipython",
    "version": 3
   },
   "file_extension": ".py",
   "mimetype": "text/x-python",
   "name": "python",
   "nbconvert_exporter": "python",
   "pygments_lexer": "ipython3",
   "version": "3.6.4"
  }
 },
 "nbformat": 4,
 "nbformat_minor": 2
}
