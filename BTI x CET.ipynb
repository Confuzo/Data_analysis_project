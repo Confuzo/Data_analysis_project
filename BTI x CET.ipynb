{
 "cells": [
  {
   "cell_type": "code",
   "execution_count": 1,
   "metadata": {},
   "outputs": [],
   "source": [
    "import pandas as pd\n",
    "import matplotlib.pyplot as plt\n",
    "import seaborn as sns\n",
    "import numpy as np\n",
    "from numpy import arange\n",
    "from decimal import *"
   ]
  },
  {
   "cell_type": "code",
   "execution_count": 2,
   "metadata": {},
   "outputs": [],
   "source": [
    "alunos_url16 = 'https://goo.gl/g1sZVa'\n",
    "alunos16 = pd.read_csv(alunos_url16, sep = ';')\n",
    "\n",
    "alunos_url15 = 'https://goo.gl/qM1kWH'\n",
    "alunos15 = pd.read_csv(alunos_url15, sep = ';')\n",
    "\n",
    "alunos_url14 = 'https://goo.gl/ymRDkb'\n",
    "alunos14 = pd.read_csv(alunos_url14, sep = ';')\n",
    "\n",
    "gastos_url = 'https://bit.ly/2wwszPf'\n",
    "gastos = pd.read_csv(gastos_url, sep =';')\n",
    "\n",
    "cursos_url = 'https://bit.ly/2rwgfc4'\n",
    "cursos = pd.read_csv(cursos_url, sep = \";\")\n",
    "\n",
    "departamentos_url = 'https://bit.ly/2ryY2dL'\n",
    "departamentos = pd.read_csv(departamentos_url, sep = ';')"
   ]
  },
  {
   "cell_type": "code",
   "execution_count": 3,
   "metadata": {},
   "outputs": [
    {
     "name": "stdout",
     "output_type": "stream",
     "text": [
      "<class 'pandas.core.frame.DataFrame'>\n",
      "Int64Index: 53471 entries, 0 to 20602\n",
      "Data columns (total 16 columns):\n",
      "matricula               53471 non-null int64\n",
      "nome_discente           53471 non-null object\n",
      "ano_ingresso            53471 non-null int64\n",
      "periodo_ingresso        53471 non-null float64\n",
      "forma_ingresso          53471 non-null object\n",
      "tipo_discente           53471 non-null object\n",
      "status                  53471 non-null object\n",
      "sigla_nivel_ensino      53471 non-null object\n",
      "nivel_ensino            53471 non-null object\n",
      "id_curso                53471 non-null float64\n",
      "nome_curso              53471 non-null object\n",
      "modalidade_educacao     53471 non-null object\n",
      "id_unidade              53471 non-null float64\n",
      "nome_unidade            53471 non-null object\n",
      "id_unidade_gestora      53471 non-null float64\n",
      "nome_unidade_gestora    53471 non-null object\n",
      "dtypes: float64(4), int64(2), object(10)\n",
      "memory usage: 6.9+ MB\n"
     ]
    }
   ],
   "source": [
    "alunos_concat = pd.concat([alunos16, alunos15, alunos14])\n",
    "alunos_concat.dropna(inplace = True)\n",
    "alunos_concat.info()"
   ]
  },
  {
   "cell_type": "code",
   "execution_count": 4,
   "metadata": {},
   "outputs": [],
   "source": [
    "alunosBTI = alunos_concat[alunos_concat.nome_curso == \"TECNOLOGIA DA INFORMAÇÃO\"]\n",
    "alunosCET = alunos_concat[alunos_concat.nome_curso == \"CIÊNCIAS E TECNOLOGIA\"]\n",
    "\n",
    "alunosBTI = alunosBTI[~alunosBTI.nome_discente.duplicated()]\n",
    "alunosCET = alunosCET[~alunosCET.nome_discente.duplicated()]"
   ]
  },
  {
   "cell_type": "code",
   "execution_count": 17,
   "metadata": {},
   "outputs": [
    {
     "data": {
      "image/png": "[encoded data removed]",
      "text/plain": [
       "<matplotlib.figure.Figure at 0x7f4d0c508cf8>"
      ]
     },
     "metadata": {},
     "output_type": "display_data"
    }
   ],
   "source": [
    "num_alunosBTI = alunosBTI.matricula.count()\n",
    "statusBTI = alunosBTI.status.value_counts()\n",
    "nome_statusBTI = alunosBTI.status[~alunosBTI.status.duplicated()]\n",
    "\n",
    "num_alunosCET = alunosCET.matricula.count()\n",
    "statusCET = alunosCET.status.value_counts()\n",
    "nome_statusCET = alunosCET.status[~alunosCET.status.duplicated()]\n",
    "\n",
    "fig = plt.figure(figsize=(15,5))\n",
    "ax1 = fig.add_subplot(1,2,1)\n",
    "ax1.set_title(\"Status dos alunos de TI\")\n",
    "bar_position = arange(6)\n",
    "ax1.bar(bar_position, statusBTI)\n",
    "ax1.set_xticklabels(nome_statusBTI , rotation = 45)\n",
    "ax1.set_xticks(range(0,6))\n",
    "\n",
    "ax2 = fig.add_subplot(1,2,2)\n",
    "ax2.set_title(\"Status do alunos de CET\")\n",
    "ax2.bar(bar_position, statusCET)\n",
    "ax2.set_xticklabels(nome_statusCET, rotation = 45)\n",
    "ax2.set_xticks(range(0,6))\n",
    "plt.show()"
   ]
  },
  {
   "cell_type": "markdown",
   "metadata": {},
   "source": [
    "Calculando gastos totais do IMD"
   ]
  },
  {
   "cell_type": "code",
   "execution_count": 13,
   "metadata": {},
   "outputs": [
    {
     "data": {
      "text/plain": [
       "49440366"
      ]
     },
     "execution_count": 13,
     "metadata": {},
     "output_type": "execute_result"
    }
   ],
   "source": [
    "imd = departamentos[departamentos.sigla == 'IMD']\n",
    "id_imd = imd.id_unidade.values[0]\n",
    "gastos_imd = gastos[gastos.id_unidade == id_imd]\n",
    "gastos_imd_str = gastos_imd.valor\n",
    "gastos_imd_str1 = []\n",
    "gastos_imd_str2 = []\n",
    "gastos_imd_quebrados = []\n",
    "gastos_imd_float = []\n",
    "gastos_imd_int = []\n",
    "for i in gastos_imd_str:total_alunos_TI = alunosBTI.matricula.value_counts().sum()\n",
    "total_alunos_ECT = alunosCET.matricula.value_counts().sum()\n",
    "    gastos_imd_str1.append(i.split(\"R$\")[1].split(\" \"))\n",
    "for i in gastos_imd_str1:\n",
    "    for j in i:\n",
    "        if j != '':\n",
    "            gastos_imd_str2.append(j)\n",
    "for i in gastos_imd_str2:\n",
    "    gastos_imd_float.append((i.split(',')[0]))\n",
    "    gastos_imd_quebrados.append(Decimal(i.split(',')[1])/100)\n",
    "for i in gastos_imd_float:\n",
    "    if len(i.split('.')) > 2:\n",
    "        gastos_imd_int.append(int(i.split('.')[0]+i.split('.')[1]+i.split('.')[2]))\n",
    "    elif len(i.split('.')) > 1:\n",
    "        gastos_imd_int.append(int(i.split('.')[0]+i.split('.')[1]))\n",
    "    else:\n",
    "        gastos_imd_int.append(int(i.split('.')[0]))\n",
    "gastos_totais_imd = sum(gastos_imd_int + gastos_imd_quebrados)\n",
    "int(gastos_totais_imd)"
   ]
  },
  {
   "cell_type": "markdown",
   "metadata": {},
   "source": [
    "Calculando gastos totais de CeT"
   ]
  },
  {
   "cell_type": "code",
   "execution_count": 14,
   "metadata": {},
   "outputs": [
    {
     "data": {
      "text/plain": [
       "30521250"
      ]
     },
     "execution_count": 14,
     "metadata": {},
     "output_type": "execute_result"
    }
   ],
   "source": [
    "ect = departamentos[departamentos.sigla == 'ECT']\n",
    "id_ect = ect.id_unidade.values[0]\n",
    "gastos_ect = gastos[gastos.id_unidade == id_ect]\n",
    "gastos_ect_str = gastos_ect.valor\n",
    "gastos_ect_str1 = []\n",
    "gastos_ect_str2 = []\n",
    "gastos_ect_quebrados = []\n",
    "gastos_ect_float = []\n",
    "gastos_ect_int = []\n",
    "for i in gastos_ect_str:\n",
    "    gastos_ect_str1.append(i.split(\"R$\")[1].split(\" \"))\n",
    "for i in gastos_ect_str1:\n",
    "    for j in i:\n",
    "        if j != '':\n",
    "            gastos_ect_str2.append(j)\n",
    "for i in gastos_ect_str2:\n",
    "    gastos_ect_float.append((i.split(',')[0]))\n",
    "    gastos_ect_quebrados.append(Decimal(i.split(',')[1])/100)\n",
    "for i in gastos_ect_float:\n",
    "    if len(i.split('.')) > 2:\n",
    "        gastos_ect_int.append(int(i.split('.')[0]+i.split('.')[1]+i.split('.')[2]))\n",
    "    elif len(i.split('.')) > 1:\n",
    "        gastos_ect_int.append(int(i.split('.')[0]+i.split('.')[1]))\n",
    "    else:\n",
    "        gastos_ect_int.append(int(i.split('.')[0]))\n",
    "gastos_totais_ect = sum(gastos_ect_int + gastos_ect_quebrados)\n",
    "int(gastos_totais_ect)"
   ]
  },
  {
   "cell_type": "code",
   "execution_count": 212,
   "metadata": {},
   "outputs": [
    {
     "data": {
      "text/plain": [
       "<function matplotlib.pyplot.show>"
      ]
     },
     "execution_count": 212,
     "metadata": {},
     "output_type": "execute_result"
    },
    {
     "data": {
      "image/png": "[encoded data removed]",
      "text/plain": [
       "<matplotlib.figure.Figure at 0x7f6ee82b8f98>"
      ]
     },
     "metadata": {},
     "output_type": "display_data"
    }
   ],
   "source": [
    "data=pd.DataFrame({\"IMD\":gastos_totais_imd, \"ECT\":gastos_totais_ect, \"Labels\":['IMD', 'ECT']})\n",
    "ax= sns.barplot(data=data)\n",
    "lim = [0,10, 20, 30, 40, 50, 60]\n",
    "ax.set_yticklabels(lim)\n",
    "ax.set_ylabel(\"Milhões de R$\")\n",
    "ax.set_title(\"Gastos de cada departamento entre 2016 e 2017\")\n",
    "plt.show"
   ]
  },
  {
   "cell_type": "code",
   "execution_count": 44,
   "metadata": {},
   "outputs": [
    {
     "data": {
      "text/plain": [
       "1940"
      ]
     },
     "execution_count": 44,
     "metadata": {},
     "output_type": "execute_result"
    },
    {
     "data": {
      "image/png": "[encoded data removed]",
      "text/plain": [
       "<matplotlib.figure.Figure at 0x7f4d048d79e8>"
      ]
     },
     "metadata": {},
     "output_type": "display_data"
    }
   ],
   "source": [
    "alunos_IMD = alunos_concat[alunos_concat.id_unidade == id_imd]\n",
    "alunos_ECT = alunos_concat[alunos_concat.id_unidade == id_ect]\n",
    "alunos_IMD_ativo = alunos_IMD[alunos_IMD.status != 'CANCELADO']\n",
    "alunos_ECT_ativo = alunos_ECT[alunos_ECT.status != 'CANCELADO']\n",
    "total_alunos_IMD = alunos_IMD_ativo.matricula.count()\n",
    "total_alunos_ECT = alunos_ECT_ativo.matricula.count()\n",
    "data=pd.DataFrame({\"IMD\":total_alunos_IMD, \"ECT\":total_alunos_ECT, \"Labels\":['IMD', 'ECT']})\n",
    "ax= sns.barplot(data=data)\n",
    "ax.set_ylabel(\"Quantidade de alunos\")\n",
    "ax.set_title(\"Quantidade de alunos do IMD e de ECT entre 2016 e 2017\")\n",
    "plt.show"
   ]
  },
  {
   "cell_type": "code",
   "execution_count": 46,
   "metadata": {},
   "outputs": [
    {
     "data": {
      "text/plain": [
       "<function matplotlib.pyplot.show>"
      ]
     },
     "execution_count": 46,
     "metadata": {},
     "output_type": "execute_result"
    },
    {
     "data": {
      "image/png": "[encoded data removed]",
      "text/plain": [
       "<matplotlib.figure.Figure at 0x7f4d04828470>"
      ]
     },
     "metadata": {},
     "output_type": "display_data"
    }
   ],
   "source": [
    "gasto_aluno_IMD = int(gastos_totais_imd/total_alunos_IMD)\n",
    "gasto_aluno_ECT = int(gastos_totais_ect/total_alunos_ECT)\n",
    "data=pd.DataFrame({\"IMD\":gasto_aluno_IMD, \"ECT\":gasto_aluno_ECT, \"Labels\":['IMD', 'ECT']})\n",
    "ax= sns.barplot(data=data)\n",
    "ax.set_ylabel(\"Gasto por aluno\")\n",
    "ax.set_title(\"Total de gastos por aluno do IMD e de ECT entre 2016 e 2017\")\n",
    "plt.show"
   ]
  }
 ],
 "metadata": {
  "kernelspec": {
   "display_name": "Python 3",
   "language": "python",
   "name": "python3"
  },
  "language_info": {
   "codemirror_mode": {
    "name": "ipython",
    "version": 3
   },
   "file_extension": ".py",
   "mimetype": "text/x-python",
   "name": "python",
   "nbconvert_exporter": "python",
   "pygments_lexer": "ipython3",
   "version": "3.6.4"
  }
 },
 "nbformat": 4,
 "nbformat_minor": 2
}
