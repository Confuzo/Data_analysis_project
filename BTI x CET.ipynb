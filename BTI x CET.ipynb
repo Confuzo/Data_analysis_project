{
 "cells": [
  {
   "cell_type": "code",
   "execution_count": 1,
   "metadata": {},
   "outputs": [
    {
     "data": {
      "text/plain": [
       "<matplotlib.figure.Figure at 0x7f7820e97d30>"
      ]
     },
     "metadata": {},
     "output_type": "display_data"
    }
   ],
   "source": [
    "import pandas as pd\n",
    "import matplotlib.pyplot as plt\n",
    "import seaborn as sns\n",
    "import numpy as np\n",
    "from numpy import arange\n",
    "from matplotlib.ticker import FuncFormatter\n",
    "\n",
    "\n",
    "turmas_concat = pd.concat([turmas161,turmas162])\n",
    "turmas_concat.rename(columns={'id_componente_curricular': 'id_componente'}, inplace=True)\n",
    "\n",
    "turmas_concat.id_componente = turmas_concat.id_componente.astype(str)\n",
    "disciplinas.dropna(inplace=True)\n",
    "disciplinas = disciplinas[~disciplinas.id_componente.duplicated()]\n",
    "disciplinas.head()\n",
    "\n",
    "colunas = [\"id_turma\",\"id_docente_interno\",\"codigo\",\"nivel_ensino\",\"nome\",\"unidade_responsavel\",\n",
    "          \"situacao_turma\",\"capacidade_aluno\",\"descricao_horario\"]\n",
    "\n",
    "# merge os dois dataframes utilizando como base a coluna id_componenteb\n",
    "merge_turmas_disciplinas = pd.merge(turmas_concat, disciplinas, on='id_componente')[colunas]\n",
    "\n",
    "merge_turmas_disciplinas.dropna(inplace=True)\n",
    "merge_turmas_disciplinas.head()\n",
    "\n",
    "turmas_imd = merge_turmas_disciplinas[merge_turmas_disciplinas.codigo.str.contains(\"IMD\")]\n",
    "turmas_ect = merge_turmas_disciplinas[merge_turmas_disciplinas.codigo.str.contains(\"ECT\")]"
   ]
  },
  {
   "cell_type": "code",
   "execution_count": 2,
   "metadata": {},
   "outputs": [],
   "source": [
    "alunos_url16 = 'https://goo.gl/g1sZVa'\n",
    "alunos16 = pd.read_csv(alunos_url16, sep = ';')"
   ]
  },
  {
   "cell_type": "code",
   "execution_count": 3,
   "metadata": {},
   "outputs": [],
   "source": [
    "alunos16.dropna(inplace = True)\n",
    "\n",
    "alunosBTI = alunos16[alunos16.nome_curso == \"TECNOLOGIA DA INFORMAÇÃO\"]\n",
    "alunosCET = alunos16[alunos16.nome_curso == \"CIÊNCIAS E TECNOLOGIA\"]\n",
    "\n",
    "alunosBTI = alunosBTI[~alunosBTI.nome_discente.duplicated()]\n",
    "alunosCET = alunosCET[~alunosCET.nome_discente.duplicated()]\n",
    "\n"
   ]
  },
  {
   "cell_type": "code",
   "execution_count": 5,
   "metadata": {},
   "outputs": [
    {
     "data": {
      "image/png": "[encoded data removed]",
      "text/plain": [
       "<matplotlib.figure.Figure at 0x7f7820e97898>"
      ]
     },
     "metadata": {},
     "output_type": "display_data"
    }
   ],
   "source": [
    "statusBTI = alunosBTI.status.value_counts()\n",
    "nome_statusBTI = alunosBTI.status[~alunosBTI.status.duplicated()]\n",
    "\n",
    "\n",
    "statusCET = alunosCET.status.value_counts()\n",
    "nome_statusCET = alunosCET.status[~alunosCET.status.duplicated()]\n",
    "\n",
    "soma = 0\n",
    "for i in statusBTI:\n",
    "    soma += i\n",
    "\n",
    "d = {}\n",
    "\n",
    "for i, j in enumerate(statusBTI):\n",
    "    d[i] = j/soma * 100\n",
    "\n",
    "sBTI = pd.Series(d)\n",
    "\n",
    "fig = plt.figure(figsize=(15,5))\n",
    "ax1 = fig.add_subplot(1,2,1)\n",
    "ax1.set_title(\"Status dos alunos de TI\")\n",
    "bar_position = arange(5)\n",
    "ax1.bar(bar_position, sBTI, align='center' , color = 'g')\n",
    "ax1.set_xticklabels(nome_statusBTI , rotation = 45)\n",
    "ax1.set_xticks(range(0,5))\n",
    "formatter = FuncFormatter(lambda y, pos: \"%d%%\" % (y))\n",
    "ax1.yaxis.set_major_formatter(formatter)\n",
    "\n",
    "soma = 0\n",
    "for i in statusCET:\n",
    "    soma += i\n",
    "\n",
    "d = {}\n",
    "\n",
    "for i, j in enumerate(statusCET):\n",
    "    d[i] = j/soma * 100\n",
    "\n",
    "sCET = pd.Series(d)\n",
    "\n",
    "ax2 = fig.add_subplot(1,2,2)\n",
    "ax2.set_title(\"Status do alunos de CET\")\n",
    "ax2.bar(bar_position, sCET, align='center')\n",
    "ax2.set_xticklabels(nome_statusCET, rotation = 45)\n",
    "ax2.set_xticks(range(0,5))\n",
    "formatter = FuncFormatter(lambda y, pos: \"%d%%\" % (y))\n",
    "ax2.yaxis.set_major_formatter(formatter)\n",
    "\n",
    "plt.show()\n"
   ]
  },
  {
   "cell_type": "code",
   "execution_count": null,
   "metadata": {},
   "outputs": [],
   "source": [
    "turmas161_url = 'https://goo.gl/MFuhNz'\n",
    "turmas161 = pd.read_csv(turmas161_url, sep = ';')\n",
    "\n",
    "turmas162_url = 'https://goo.gl/qSDpFe'\n",
    "turmas162 = pd.read_csv(turmas162_url, sep = ';')\n",
    "\n",
    "notas161_url = 'https://goo.gl/96o1xn'\n",
    "notas161 = pd.read_csv(notas161_url, sep = ';')\n",
    "\n",
    "notas162_url = 'https://goo.gl/uxAJBe'\n",
    "notas162 = pd.read_csv(notas162_url, sep = ';')\n",
    "\n",
    "docentes_url = 'https://goo.gl/LdPmyf'\n",
    "docentes = pd.read_csv(docentes_url, sep = ';')\n",
    "\n",
    "disciplinas_url = 'https://goo.gl/gBY8eT'\n",
    "disciplinas = pd.read_csv(disciplinas_url, sep = ';',usecols=[\"id_componente\",\"codigo\",\"nivel\",\"nome\",\"unidade_responsavel\"])\n"
   ]
  }
 ],
 "metadata": {
  "kernelspec": {
   "display_name": "Python 3",
   "language": "python",
   "name": "python3"
  },
  "language_info": {
   "codemirror_mode": {
    "name": "ipython",
    "version": 3
   },
   "file_extension": ".py",
   "mimetype": "text/x-python",
   "name": "python",
   "nbconvert_exporter": "python",
   "pygments_lexer": "ipython3",
   "version": "3.6.4"
  }
 },
 "nbformat": 4,
 "nbformat_minor": 2
}
